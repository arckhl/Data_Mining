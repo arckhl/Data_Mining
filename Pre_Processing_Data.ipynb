{
  "nbformat": 4,
  "nbformat_minor": 0,
  "metadata": {
    "colab": {
      "provenance": [],
      "toc_visible": true
    },
    "kernelspec": {
      "name": "python3",
      "display_name": "Python 3"
    },
    "language_info": {
      "name": "python"
    }
  },
  "cells": [
    {
      "cell_type": "code",
      "execution_count": 1,
      "metadata": {
        "id": "G-9iG5K6-X4s"
      },
      "outputs": [],
      "source": [
        "import numpy as ny\n",
        "import matplotlib.pyplot as plt\n",
        "import pandas as pd"
      ]
    },
    {
      "cell_type": "markdown",
      "source": [
        "Numpy merupakan library python untuk komputasi matriks\n",
        "\n",
        "Matplotlib merupakan library python untuk presentasi data berapa grafik atau plot\n",
        "\n",
        "Panda merupakan librari python untuk mengambil atau mengimpor data dari sumber luar, seperti Data.cvs"
      ],
      "metadata": {
        "id": "gIJNNYeR-7q0"
      }
    },
    {
      "cell_type": "code",
      "source": [
        "dataset = pd.read_csv('Data.csv')\n",
        "X = dataset.iloc[:,:-1].values\n",
        "Y = dataset.iloc[:,-1].values"
      ],
      "metadata": {
        "id": "jeZGQu-H--sL"
      },
      "execution_count": 8,
      "outputs": []
    },
    {
      "cell_type": "markdown",
      "source": [
        "x berisi kolom Toko, Sepatu dan Hoodie\n",
        "\n",
        "y berisi kolom Tempat (Label)"
      ],
      "metadata": {
        "id": "7jrRLeT4_PDw"
      }
    },
    {
      "cell_type": "code",
      "source": [
        "print(X)"
      ],
      "metadata": {
        "colab": {
          "base_uri": "https://localhost:8080/"
        },
        "id": "eCp9zPOy_QKv",
        "outputId": "ef814f31-4db0-415b-9bc2-e6c10aef4b60"
      },
      "execution_count": 9,
      "outputs": [
        {
          "output_type": "stream",
          "name": "stdout",
          "text": [
            "[['Hustle' 44000.0 72000.0]\n",
            " ['Blackies' 89000.0 100000.0]\n",
            " ['Caro' 55000.0 54000.0]\n",
            " ['Caro' 45000.0 45000.0]\n",
            " ['Gangnam' 84000.0 nan]\n",
            " ['Blackies' 89000.0 100000.0]\n",
            " ['Caro' 55000.0 54000.0]\n",
            " ['Caro' nan 100000.0]\n",
            " ['Gangnam' 55000.0 55000.0]\n",
            " ['Hustle' 68000.0 99000.0]]\n"
          ]
        }
      ]
    },
    {
      "cell_type": "code",
      "source": [
        "from sklearn.impute import SimpleImputer\n",
        "imputer = SimpleImputer(missing_values=ny.nan, strategy='mean')\n",
        "imputer.fit(X[:, 1:3])\n",
        "X[:, 1:3] = imputer.transform(X[:, 1:3])"
      ],
      "metadata": {
        "id": "gqGSehUqMHkA"
      },
      "execution_count": 10,
      "outputs": []
    },
    {
      "cell_type": "markdown",
      "source": [
        "SimpleImputer merupakan fungsi untuk mengganti missing data (nan) dengan mencari rata - rata"
      ],
      "metadata": {
        "id": "KaJdmceiMuad"
      }
    },
    {
      "cell_type": "code",
      "source": [
        "print(X)"
      ],
      "metadata": {
        "colab": {
          "base_uri": "https://localhost:8080/"
        },
        "id": "k_EU_MkTMIyr",
        "outputId": "1c1b48ea-a0ab-4b5d-f09e-12c310ddea35"
      },
      "execution_count": 12,
      "outputs": [
        {
          "output_type": "stream",
          "name": "stdout",
          "text": [
            "[['Hustle' 44000.0 72000.0]\n",
            " ['Blackies' 89000.0 100000.0]\n",
            " ['Caro' 55000.0 54000.0]\n",
            " ['Caro' 45000.0 45000.0]\n",
            " ['Gangnam' 84000.0 75444.44444444444]\n",
            " ['Blackies' 89000.0 100000.0]\n",
            " ['Caro' 55000.0 54000.0]\n",
            " ['Caro' 64888.88888888889 100000.0]\n",
            " ['Gangnam' 55000.0 55000.0]\n",
            " ['Hustle' 68000.0 99000.0]]\n"
          ]
        }
      ]
    },
    {
      "cell_type": "code",
      "source": [
        "from sklearn.compose import ColumnTransformer\n",
        "from sklearn.preprocessing import OneHotEncoder\n",
        "ct = ColumnTransformer(transformers=[('encoder',OneHotEncoder(), [0])], remainder='passthrough')\n",
        "X = ny.array(ct.fit_transform(X))"
      ],
      "metadata": {
        "id": "PkoZVS0OM9vT"
      },
      "execution_count": 13,
      "outputs": []
    },
    {
      "cell_type": "markdown",
      "source": [
        "ct adalah variabel pemanggil ColumnTransformer\n",
        "\n",
        "OneHotEncoder berfungsi untuk merubah dari nominal menjadi matriks"
      ],
      "metadata": {
        "id": "ybOG7sjROvb5"
      }
    },
    {
      "cell_type": "code",
      "source": [
        "print(X)"
      ],
      "metadata": {
        "colab": {
          "base_uri": "https://localhost:8080/"
        },
        "id": "wekEr7tYTRTs",
        "outputId": "8661fbfa-0753-4469-e6ae-3c9e94c61a56"
      },
      "execution_count": 14,
      "outputs": [
        {
          "output_type": "stream",
          "name": "stdout",
          "text": [
            "[[0.0 0.0 0.0 1.0 44000.0 72000.0]\n",
            " [1.0 0.0 0.0 0.0 89000.0 100000.0]\n",
            " [0.0 1.0 0.0 0.0 55000.0 54000.0]\n",
            " [0.0 1.0 0.0 0.0 45000.0 45000.0]\n",
            " [0.0 0.0 1.0 0.0 84000.0 75444.44444444444]\n",
            " [1.0 0.0 0.0 0.0 89000.0 100000.0]\n",
            " [0.0 1.0 0.0 0.0 55000.0 54000.0]\n",
            " [0.0 1.0 0.0 0.0 64888.88888888889 100000.0]\n",
            " [0.0 0.0 1.0 0.0 55000.0 55000.0]\n",
            " [0.0 0.0 0.0 1.0 68000.0 99000.0]]\n"
          ]
        }
      ]
    },
    {
      "cell_type": "markdown",
      "source": [
        "Menjadi bentuk matriks ORDE 4, jika dirun ColumntTransformer sekali lagi maka akan menjadi ORDE 5, dan seterusnya"
      ],
      "metadata": {
        "id": "LmUohwYwOzmQ"
      }
    },
    {
      "cell_type": "code",
      "source": [
        "print(Y)"
      ],
      "metadata": {
        "colab": {
          "base_uri": "https://localhost:8080/"
        },
        "id": "K3D9YWBeTcnj",
        "outputId": "b0510886-3935-45b5-9269-e2f2cd0d245e"
      },
      "execution_count": 15,
      "outputs": [
        {
          "output_type": "stream",
          "name": "stdout",
          "text": [
            "['No' 'Yes' 'No' 'No' 'Yes' 'Yes' 'No' 'Yes' 'No' 'Yes']\n"
          ]
        }
      ]
    }
  ]
}